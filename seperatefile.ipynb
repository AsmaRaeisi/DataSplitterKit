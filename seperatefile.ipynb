{
 "cells": [
  {
   "cell_type": "code",
   "execution_count": 13,
   "metadata": {},
   "outputs": [
    {
     "name": "stdout",
     "output_type": "stream",
     "text": [
      "Separation of images into 'train', 'val', and 'test' completed.\n"
     ]
    }
   ],
   "source": [
    "import os\n",
    "import json\n",
    "import shutil\n",
    "\n",
    "# Define the paths\n",
    "images_folder = 'images'  # Assuming 'images' folder is in the current directory\n",
    "json_files = ['train.json', 'val.json', 'test.json']\n",
    "\n",
    "# Create output directories for train, val, and test\n",
    "output_folders = ['train', 'val', 'test']\n",
    "for folder in output_folders:\n",
    "    os.makedirs(folder, exist_ok=True)\n",
    "\n",
    "# Process each JSON file\n",
    "for json_file, output_folder in zip(json_files, output_folders):\n",
    "    with open(json_file, 'r') as file:\n",
    "        data = json.load(file)\n",
    "        \n",
    "        for entry in data['images']:\n",
    "            if 'file_name' in entry:\n",
    "                image_name = entry['file_name']\n",
    "                source_image_path = os.path.join(images_folder, image_name)\n",
    "                output_image_path = os.path.join(output_folder, image_name)\n",
    "\n",
    "                # Check if the image file exists and copy it to the respective output folder\n",
    "                if os.path.exists(source_image_path):\n",
    "                    shutil.copy(source_image_path, output_image_path)\n",
    "\n",
    "print(\"Separation of images into 'train', 'val', and 'test' completed.\")\n"
   ]
  }
 ],
 "metadata": {
  "kernelspec": {
   "display_name": "Python 3",
   "language": "python",
   "name": "python3"
  },
  "language_info": {
   "codemirror_mode": {
    "name": "ipython",
    "version": 3
   },
   "file_extension": ".py",
   "mimetype": "text/x-python",
   "name": "python",
   "nbconvert_exporter": "python",
   "pygments_lexer": "ipython3",
   "version": "3.10.12"
  }
 },
 "nbformat": 4,
 "nbformat_minor": 2
}
